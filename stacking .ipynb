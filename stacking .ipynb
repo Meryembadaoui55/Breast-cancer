{
 "cells": [
  {
   "cell_type": "code",
   "execution_count": 2,
   "id": "b55f000c",
   "metadata": {},
   "outputs": [
    {
     "name": "stdout",
     "output_type": "stream",
     "text": [
      "accuracy: 0.9655172413793104\n",
      "erorr 0.03448275862068961\n"
     ]
    },
    {
     "name": "stderr",
     "output_type": "stream",
     "text": [
      "C:\\Users\\dell\\AppData\\Roaming\\Python\\Python39\\site-packages\\sklearn\\linear_model\\_logistic.py:444: ConvergenceWarning: lbfgs failed to converge (status=1):\n",
      "STOP: TOTAL NO. of ITERATIONS REACHED LIMIT.\n",
      "\n",
      "Increase the number of iterations (max_iter) or scale the data as shown in:\n",
      "    https://scikit-learn.org/stable/modules/preprocessing.html\n",
      "Please also refer to the documentation for alternative solver options:\n",
      "    https://scikit-learn.org/stable/modules/linear_model.html#logistic-regression\n",
      "  n_iter_i = _check_optimize_result(\n"
     ]
    }
   ],
   "source": [
    "from sklearn.ensemble import StackingClassifier\n",
    "from sklearn.linear_model import LogisticRegression\n",
    "from sklearn.tree import DecisionTreeClassifier\n",
    "from sklearn.svm import SVC\n",
    "\n",
    "# Load the Wisconsin breast cancer dataset\n",
    "from sklearn.datasets import load_breast_cancer\n",
    "X, y = load_breast_cancer(return_X_y=True)\n",
    "\n",
    "# Split the dataset into a training set and a test set\n",
    "from sklearn.model_selection import train_test_split\n",
    "X_train, X_test, y_train, y_test = train_test_split(X, y, test_size=0.05, random_state=42)\n",
    "\n",
    "# Train base models\n",
    "base_model1 = DecisionTreeClassifier(random_state=42)\n",
    "base_model2 = SVC(random_state=42)\n",
    "base_model3 = LogisticRegression(random_state=42)\n",
    "base_model1.fit(X_train, y_train)\n",
    "base_model2.fit(X_train, y_train)\n",
    "base_model3.fit(X_train, y_train)\n",
    "\n",
    "# Make predictions on the test set using the base models\n",
    "predictions1 = base_model1.predict(X_test)\n",
    "predictions2 = base_model2.predict(X_test)\n",
    "predictions3 = base_model3.predict(X_test)\n",
    "\n",
    "# Stack the predictions made by the base models as input to the meta-model\n",
    "import numpy as np\n",
    "X_meta = np.column_stack((predictions1, predictions2, predictions3))\n",
    "\n",
    "# Train the meta-model\n",
    "meta_model = LogisticRegression(random_state=42)\n",
    "meta_model.fit(X_meta, y_test)\n",
    "\n",
    "# Make final predictions using the trained meta-model\n",
    "final_predictions = meta_model.predict(X_meta)\n",
    "\n",
    "# Evaluate the performance of the stacked model\n",
    "from sklearn.metrics import accuracy_score\n",
    "print(\"accuracy:\",accuracy_score(y_test, final_predictions))\n",
    "error = 1-accuracy_score(y_test, final_predictions)\n",
    "print(\"erorr\",error)"
   ]
  },
  {
   "cell_type": "code",
   "execution_count": null,
   "id": "5aa06903",
   "metadata": {},
   "outputs": [],
   "source": []
  }
 ],
 "metadata": {
  "kernelspec": {
   "display_name": "Python 3 (ipykernel)",
   "language": "python",
   "name": "python3"
  },
  "language_info": {
   "codemirror_mode": {
    "name": "ipython",
    "version": 3
   },
   "file_extension": ".py",
   "mimetype": "text/x-python",
   "name": "python",
   "nbconvert_exporter": "python",
   "pygments_lexer": "ipython3",
   "version": "3.9.12"
  }
 },
 "nbformat": 4,
 "nbformat_minor": 5
}
