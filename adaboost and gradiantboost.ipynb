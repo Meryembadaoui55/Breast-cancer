{
 "cells": [
  {
   "cell_type": "markdown",
   "id": "c5deab7e",
   "metadata": {},
   "source": [
    "# AdaBoost"
   ]
  },
  {
   "cell_type": "code",
   "execution_count": 1,
   "id": "997d024b",
   "metadata": {},
   "outputs": [
    {
     "name": "stdout",
     "output_type": "stream",
     "text": [
      "Train score: 0.9694835680751174\n",
      "Test score: 0.958041958041958\n"
     ]
    }
   ],
   "source": [
    "\n",
    "# For this basic implementation, we only need these modules\n",
    "from sklearn.datasets import load_breast_cancer\n",
    "from sklearn.model_selection import train_test_split\n",
    "from sklearn.tree import DecisionTreeClassifier\n",
    "from sklearn.ensemble import AdaBoostClassifier\n",
    "\n",
    "# Load the well-known Breast Cancer dataset\n",
    "# Split into train and test sets\n",
    "x, y = load_breast_cancer(return_X_y=True)\n",
    "x_train, x_test, y_train, y_test = train_test_split(x, y, test_size=0.25, random_state=23)\n",
    "\n",
    "# The base learner will be a decision tree with depth = 2\n",
    "tree = DecisionTreeClassifier(max_depth=2, random_state=23)\n",
    "\n",
    "# AdaBoost initialization\n",
    "# It's defined the decision tree as the base learner\n",
    "# The number of estimators will be 5\n",
    "# The penalizer for the weights of each estimator is 0.1\n",
    "adaboost = AdaBoostClassifier(base_estimator=tree, n_estimators=5, learning_rate=0.1, random_state=23)\n",
    "\n",
    "# Train!\n",
    "adaboost.fit(x_train, y_train)\n",
    "\n",
    "# Evaluation\n",
    "print(f\"Train score: {adaboost.score(x_train, y_train)}\")\n",
    "print(f\"Test score: {adaboost.score(x_test, y_test)}\")"
   ]
  },
  {
   "cell_type": "markdown",
   "id": "581459bc",
   "metadata": {},
   "source": [
    "# GradientBoost"
   ]
  },
  {
   "cell_type": "code",
   "execution_count": 2,
   "id": "2a93602a",
   "metadata": {},
   "outputs": [
    {
     "name": "stdout",
     "output_type": "stream",
     "text": [
      "Train score: 0.9906103286384976\n",
      "Test score: 0.965034965034965\n"
     ]
    }
   ],
   "source": [
    "# For this basic implementation, we only need these modules\n",
    "from sklearn.datasets import load_breast_cancer\n",
    "from sklearn.model_selection import train_test_split\n",
    "from sklearn.ensemble import GradientBoostingClassifier\n",
    "\n",
    "# Load the well-known Breast Cancer dataset\n",
    "# Split into train and test sets\n",
    "x, y = load_breast_cancer(return_X_y=True)\n",
    "x_train, x_test, y_train, y_test = train_test_split(x, y, test_size=0.25, random_state=23)\n",
    "\n",
    "# Gradient Boosting initialization\n",
    "# The base learner is a decision tree as default\n",
    "# The number of estimators is 5\n",
    "# The depth for each deciion tree is 2\n",
    "# The learning rate for each estimator in the sequence is 1\n",
    "gradientBoosting = GradientBoostingClassifier(n_estimators=5, learning_rate=1, max_depth=2, random_state=23)\n",
    "\n",
    "# Train!\n",
    "gradientBoosting.fit(x_train, y_train)\n",
    "\n",
    "# Evaluation\n",
    "print(f\"Train score: {gradientBoosting.score(x_train, y_train)}\")\n",
    "print(f\"Test score: {gradientBoosting.score(x_test, y_test)}\")"
   ]
  },
  {
   "cell_type": "code",
   "execution_count": 7,
   "id": "3ee744b5",
   "metadata": {},
   "outputs": [
    {
     "name": "stdout",
     "output_type": "stream",
     "text": [
      "Accuracy: 0.9649122807017544\n"
     ]
    }
   ],
   "source": [
    "import xgboost as xgb\n",
    "from sklearn.datasets import load_breast_cancer\n",
    "from sklearn.model_selection import train_test_split\n",
    "\n",
    "# Load the Wisconsin Breast Cancer dataset\n",
    "data = load_breast_cancer()\n",
    "X = data.data\n",
    "y = data.target\n",
    "\n",
    "# Split the data into training and test sets\n",
    "X_train, X_test, y_train, y_test = train_test_split(X, y, test_size=0.2, random_state=42)\n",
    "\n",
    "# Convert the data to DMatrix format, which is the format required by XGBoost\n",
    "dtrain = xgb.DMatrix(X_train, label=y_train)\n",
    "dtest = xgb.DMatrix(X_test, label=y_test)\n",
    "\n",
    "# Set the hyperparameters of the model\n",
    "params = {\n",
    "    \"eta\": 0.1,  # learning rate\n",
    "    \"max_depth\": 3,  # maximum depth of the tree\n",
    "    \"objective\": \"binary:logistic\",  # objective function to optimize\n",
    "    \"seed\": 42,  # random seed for reproducibility\n",
    "}\n",
    "\n",
    "# Train the model\n",
    "model = xgb.train(params, dtrain, num_boost_round=100)\n",
    "\n",
    "# Predict the labels of the test data\n",
    "y_pred = model.predict(dtest)\n",
    "\n",
    "# Calculate the accuracy of the model\n",
    "accuracy = (y_pred.round() == y_test).mean()\n",
    "print(\"Accuracy:\", accuracy)"
   ]
  },
  {
   "cell_type": "code",
   "execution_count": null,
   "id": "d5dbed57",
   "metadata": {},
   "outputs": [],
   "source": []
  }
 ],
 "metadata": {
  "kernelspec": {
   "display_name": "Python 3 (ipykernel)",
   "language": "python",
   "name": "python3"
  },
  "language_info": {
   "codemirror_mode": {
    "name": "ipython",
    "version": 3
   },
   "file_extension": ".py",
   "mimetype": "text/x-python",
   "name": "python",
   "nbconvert_exporter": "python",
   "pygments_lexer": "ipython3",
   "version": "3.9.12"
  }
 },
 "nbformat": 4,
 "nbformat_minor": 5
}
